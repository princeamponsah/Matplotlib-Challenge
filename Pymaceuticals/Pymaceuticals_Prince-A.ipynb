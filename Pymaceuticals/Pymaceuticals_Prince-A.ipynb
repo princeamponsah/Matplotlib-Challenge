{
 "cells": [
  {
   "cell_type": "markdown",
   "metadata": {},
   "source": [
    "## Observations and Insights "
   ]
  },
  {
   "cell_type": "code",
   "execution_count": 1,
   "metadata": {},
   "outputs": [
    {
     "data": {
      "text/html": [
       "<div>\n",
       "<style scoped>\n",
       "    .dataframe tbody tr th:only-of-type {\n",
       "        vertical-align: middle;\n",
       "    }\n",
       "\n",
       "    .dataframe tbody tr th {\n",
       "        vertical-align: top;\n",
       "    }\n",
       "\n",
       "    .dataframe thead th {\n",
       "        text-align: right;\n",
       "    }\n",
       "</style>\n",
       "<table border=\"1\" class=\"dataframe\">\n",
       "  <thead>\n",
       "    <tr style=\"text-align: right;\">\n",
       "      <th></th>\n",
       "      <th>Mouse ID</th>\n",
       "      <th>Drug Regimen</th>\n",
       "      <th>Sex</th>\n",
       "      <th>Age_months</th>\n",
       "      <th>Weight (g)</th>\n",
       "      <th>Timepoint</th>\n",
       "      <th>Tumor Volume (mm3)</th>\n",
       "      <th>Metastatic Sites</th>\n",
       "    </tr>\n",
       "  </thead>\n",
       "  <tbody>\n",
       "    <tr>\n",
       "      <th>0</th>\n",
       "      <td>k403</td>\n",
       "      <td>Ramicane</td>\n",
       "      <td>Male</td>\n",
       "      <td>21</td>\n",
       "      <td>16</td>\n",
       "      <td>0</td>\n",
       "      <td>45.000000</td>\n",
       "      <td>0</td>\n",
       "    </tr>\n",
       "    <tr>\n",
       "      <th>1</th>\n",
       "      <td>k403</td>\n",
       "      <td>Ramicane</td>\n",
       "      <td>Male</td>\n",
       "      <td>21</td>\n",
       "      <td>16</td>\n",
       "      <td>5</td>\n",
       "      <td>38.825898</td>\n",
       "      <td>0</td>\n",
       "    </tr>\n",
       "    <tr>\n",
       "      <th>2</th>\n",
       "      <td>k403</td>\n",
       "      <td>Ramicane</td>\n",
       "      <td>Male</td>\n",
       "      <td>21</td>\n",
       "      <td>16</td>\n",
       "      <td>10</td>\n",
       "      <td>35.014271</td>\n",
       "      <td>1</td>\n",
       "    </tr>\n",
       "    <tr>\n",
       "      <th>3</th>\n",
       "      <td>k403</td>\n",
       "      <td>Ramicane</td>\n",
       "      <td>Male</td>\n",
       "      <td>21</td>\n",
       "      <td>16</td>\n",
       "      <td>15</td>\n",
       "      <td>34.223992</td>\n",
       "      <td>1</td>\n",
       "    </tr>\n",
       "    <tr>\n",
       "      <th>4</th>\n",
       "      <td>k403</td>\n",
       "      <td>Ramicane</td>\n",
       "      <td>Male</td>\n",
       "      <td>21</td>\n",
       "      <td>16</td>\n",
       "      <td>20</td>\n",
       "      <td>32.997729</td>\n",
       "      <td>1</td>\n",
       "    </tr>\n",
       "  </tbody>\n",
       "</table>\n",
       "</div>"
      ],
      "text/plain": [
       "  Mouse ID Drug Regimen   Sex  Age_months  Weight (g)  Timepoint  \\\n",
       "0     k403     Ramicane  Male          21          16          0   \n",
       "1     k403     Ramicane  Male          21          16          5   \n",
       "2     k403     Ramicane  Male          21          16         10   \n",
       "3     k403     Ramicane  Male          21          16         15   \n",
       "4     k403     Ramicane  Male          21          16         20   \n",
       "\n",
       "   Tumor Volume (mm3)  Metastatic Sites  \n",
       "0           45.000000                 0  \n",
       "1           38.825898                 0  \n",
       "2           35.014271                 1  \n",
       "3           34.223992                 1  \n",
       "4           32.997729                 1  "
      ]
     },
     "execution_count": 1,
     "metadata": {},
     "output_type": "execute_result"
    }
   ],
   "source": [
    "# Dependencies and Setup\n",
    "import matplotlib.pyplot as plt\n",
    "import pandas as pd\n",
    "import scipy.stats as st\n",
    "import numpy as np\n",
    "import seaborn as sns\n",
    "from scipy.stats import linregress\n",
    "\n",
    "# Study data files\n",
    "mouse_metadata_path = \"data/Mouse_metadata.csv\"\n",
    "study_results_path = \"data/Study_results.csv\"\n",
    "\n",
    "# Read the mouse data and the study results\n",
    "mouse_metadata = pd.read_csv(mouse_metadata_path)\n",
    "study_results = pd.read_csv(study_results_path)\n",
    "\n",
    "# Combine the data into a single dataset\n",
    "merge_df = pd.merge(mouse_metadata,study_results, how='left', on=\"Mouse ID\")\n",
    "\n",
    "# Display the data table for preview\n",
    "merge_df.head()\n",
    "# merge_df.info()"
   ]
  },
  {
   "cell_type": "code",
   "execution_count": 2,
   "metadata": {},
   "outputs": [],
   "source": [
    "# Checking the number of mice.\n",
    "mouse_id = merge_df['Mouse ID']\n",
    "# mouse_id.value_counts()"
   ]
  },
  {
   "cell_type": "markdown",
   "metadata": {},
   "source": [
    "In the above code and figure, I try to identify the count of each unique mouse ID as a step in my exploratory analysis. This is to aid the cleanup purpose"
   ]
  },
  {
   "cell_type": "code",
   "execution_count": 3,
   "metadata": {},
   "outputs": [
    {
     "data": {
      "text/html": [
       "<div>\n",
       "<style scoped>\n",
       "    .dataframe tbody tr th:only-of-type {\n",
       "        vertical-align: middle;\n",
       "    }\n",
       "\n",
       "    .dataframe tbody tr th {\n",
       "        vertical-align: top;\n",
       "    }\n",
       "\n",
       "    .dataframe thead th {\n",
       "        text-align: right;\n",
       "    }\n",
       "</style>\n",
       "<table border=\"1\" class=\"dataframe\">\n",
       "  <thead>\n",
       "    <tr style=\"text-align: right;\">\n",
       "      <th></th>\n",
       "      <th>Mouse ID</th>\n",
       "      <th>Timepoint</th>\n",
       "    </tr>\n",
       "  </thead>\n",
       "  <tbody>\n",
       "    <tr>\n",
       "      <th>909</th>\n",
       "      <td>g989</td>\n",
       "      <td>0</td>\n",
       "    </tr>\n",
       "    <tr>\n",
       "      <th>911</th>\n",
       "      <td>g989</td>\n",
       "      <td>5</td>\n",
       "    </tr>\n",
       "    <tr>\n",
       "      <th>913</th>\n",
       "      <td>g989</td>\n",
       "      <td>10</td>\n",
       "    </tr>\n",
       "    <tr>\n",
       "      <th>915</th>\n",
       "      <td>g989</td>\n",
       "      <td>15</td>\n",
       "    </tr>\n",
       "    <tr>\n",
       "      <th>917</th>\n",
       "      <td>g989</td>\n",
       "      <td>20</td>\n",
       "    </tr>\n",
       "  </tbody>\n",
       "</table>\n",
       "</div>"
      ],
      "text/plain": [
       "    Mouse ID  Timepoint\n",
       "909     g989          0\n",
       "911     g989          5\n",
       "913     g989         10\n",
       "915     g989         15\n",
       "917     g989         20"
      ]
     },
     "execution_count": 3,
     "metadata": {},
     "output_type": "execute_result"
    }
   ],
   "source": [
    "# Getting the duplicate mice by ID number that shows up for Mouse ID and Timepoint. \n",
    "\n",
    "#identifying which mouse ID has duplicate Timepoint stamps. \n",
    "cleanup = merge_df[['Mouse ID','Timepoint']]\n",
    "duplicateRowsDF = cleanup[cleanup.duplicated()]\n",
    "duplicateRowsDF"
   ]
  },
  {
   "cell_type": "markdown",
   "metadata": {},
   "source": [
    "The above code and figure is showing which rows (along with index #) are duplicates. In the table, all instances of Mouse ID and Timepoint that appear more than onces in the data are shown in the table. This helps in identifying what to delete from the data in the clean up attempt. \n",
    "\n",
    "-----------------------------------------------------------------------------------------------\n",
    "The code and figure below removes all instances of the duplicated mouse ID,g989, from the original data merge data frame"
   ]
  },
  {
   "cell_type": "code",
   "execution_count": 4,
   "metadata": {},
   "outputs": [],
   "source": [
    "# remove ALL instances g989 mouse ID from original data set\n",
    "clean_data = merge_df[merge_df['Mouse ID']!='g989'] #dropping duplicate seems to have dropped off 1 line from ID: g989\n",
    "# clean_data.duplicated()"
   ]
  },
  {
   "cell_type": "code",
   "execution_count": 5,
   "metadata": {},
   "outputs": [
    {
     "data": {
      "text/plain": [
       "z969    10\n",
       "b879    10\n",
       "e584    10\n",
       "r701    10\n",
       "a411    10\n",
       "m550    10\n",
       "x581    10\n",
       "z581    10\n",
       "k862    10\n",
       "y260    10\n",
       "y478    10\n",
       "r604    10\n",
       "m650    10\n",
       "v991    10\n",
       "e476    10\n",
       "o287    10\n",
       "m546    10\n",
       "l700    10\n",
       "w151    10\n",
       "a401    10\n",
       "t451    10\n",
       "a251    10\n",
       "g570    10\n",
       "c302    10\n",
       "o331    10\n",
       "a963    10\n",
       "x773    10\n",
       "h246    10\n",
       "a818    10\n",
       "a699    10\n",
       "        ..\n",
       "z435     3\n",
       "x111     3\n",
       "d164     3\n",
       "v339     2\n",
       "z314     2\n",
       "m756     2\n",
       "f394     2\n",
       "w140     2\n",
       "o813     2\n",
       "f278     2\n",
       "y601     2\n",
       "s619     2\n",
       "h531     2\n",
       "c326     2\n",
       "w746     2\n",
       "n630     2\n",
       "w678     2\n",
       "z234     2\n",
       "x336     1\n",
       "x226     1\n",
       "l872     1\n",
       "h428     1\n",
       "u153     1\n",
       "f932     1\n",
       "o848     1\n",
       "b447     1\n",
       "n482     1\n",
       "t573     1\n",
       "d133     1\n",
       "v199     1\n",
       "Name: Mouse ID, Length: 248, dtype: int64"
      ]
     },
     "execution_count": 5,
     "metadata": {},
     "output_type": "execute_result"
    }
   ],
   "source": [
    "# Checking the number of mice in the clean DataFrame.\n",
    "clean_data['Mouse ID'].value_counts() # mouse ID g989 has been dropped."
   ]
  },
  {
   "cell_type": "markdown",
   "metadata": {},
   "source": [
    "## Summary Statistics"
   ]
  },
  {
   "cell_type": "code",
   "execution_count": 6,
   "metadata": {},
   "outputs": [],
   "source": [
    "# Generate a summary statistics table of mean, median, variance, standard deviation, and SEM of the tumor volume for each regimen\n",
    "\n",
    "# Use groupby and summary statistical methods to calculate the following properties of each drug regimen: \n",
    "regimen_mean = clean_data.groupby('Drug Regimen').mean()[['Tumor Volume (mm3)']] # calculate Mean\n",
    "regimen_median = clean_data.groupby('Drug Regimen').median()[['Tumor Volume (mm3)']] # calculate median\n",
    "regimen_std = clean_data.groupby('Drug Regimen').std()[['Tumor Volume (mm3)']] # calculate Standard Deviation\n",
    "regimen_var = clean_data.groupby('Drug Regimen').var()[['Tumor Volume (mm3)']] # calculate variance\n",
    "regimen_sem = clean_data.groupby('Drug Regimen').sem()[['Tumor Volume (mm3)']] # calculate  standard error of the mean\n",
    " \n",
    "# Assemble the resulting series into a single summary dataframe.\n",
    "sum_stat_df = pd.DataFrame({\n",
    "    \"Regimen_Mean\" : regimen_mean,\n",
    "    \"Regimen_Median\" : regimen_median,\n",
    "    \"Regimen_Variance\" : regimen_var,\n",
    "    \"Regimen_Std_Dev\" : regimen_std,\n",
    "    \"Regimen_standard_error_of_the_mean\" : regimen_sem\n",
    "},index=[0])\n",
    "# sum_stat_df"
   ]
  },
  {
   "cell_type": "code",
   "execution_count": 7,
   "metadata": {},
   "outputs": [
    {
     "data": {
      "text/html": [
       "<div>\n",
       "<style scoped>\n",
       "    .dataframe tbody tr th:only-of-type {\n",
       "        vertical-align: middle;\n",
       "    }\n",
       "\n",
       "    .dataframe tbody tr th {\n",
       "        vertical-align: top;\n",
       "    }\n",
       "\n",
       "    .dataframe thead tr th {\n",
       "        text-align: left;\n",
       "    }\n",
       "\n",
       "    .dataframe thead tr:last-of-type th {\n",
       "        text-align: right;\n",
       "    }\n",
       "</style>\n",
       "<table border=\"1\" class=\"dataframe\">\n",
       "  <thead>\n",
       "    <tr>\n",
       "      <th></th>\n",
       "      <th colspan=\"5\" halign=\"left\">Tumor Volume (mm3)</th>\n",
       "    </tr>\n",
       "    <tr>\n",
       "      <th></th>\n",
       "      <th>mean</th>\n",
       "      <th>median</th>\n",
       "      <th>var</th>\n",
       "      <th>std</th>\n",
       "      <th>sem</th>\n",
       "    </tr>\n",
       "    <tr>\n",
       "      <th>Drug Regimen</th>\n",
       "      <th></th>\n",
       "      <th></th>\n",
       "      <th></th>\n",
       "      <th></th>\n",
       "      <th></th>\n",
       "    </tr>\n",
       "  </thead>\n",
       "  <tbody>\n",
       "    <tr>\n",
       "      <th>Capomulin</th>\n",
       "      <td>40.675741</td>\n",
       "      <td>41.557809</td>\n",
       "      <td>24.947764</td>\n",
       "      <td>4.994774</td>\n",
       "      <td>0.329346</td>\n",
       "    </tr>\n",
       "    <tr>\n",
       "      <th>Ceftamin</th>\n",
       "      <td>52.591172</td>\n",
       "      <td>51.776157</td>\n",
       "      <td>39.290177</td>\n",
       "      <td>6.268188</td>\n",
       "      <td>0.469821</td>\n",
       "    </tr>\n",
       "    <tr>\n",
       "      <th>Infubinol</th>\n",
       "      <td>52.884795</td>\n",
       "      <td>51.820584</td>\n",
       "      <td>43.128684</td>\n",
       "      <td>6.567243</td>\n",
       "      <td>0.492236</td>\n",
       "    </tr>\n",
       "    <tr>\n",
       "      <th>Ketapril</th>\n",
       "      <td>55.235638</td>\n",
       "      <td>53.698743</td>\n",
       "      <td>68.553577</td>\n",
       "      <td>8.279709</td>\n",
       "      <td>0.603860</td>\n",
       "    </tr>\n",
       "    <tr>\n",
       "      <th>Naftisol</th>\n",
       "      <td>54.331565</td>\n",
       "      <td>52.509285</td>\n",
       "      <td>66.173479</td>\n",
       "      <td>8.134708</td>\n",
       "      <td>0.596466</td>\n",
       "    </tr>\n",
       "    <tr>\n",
       "      <th>Placebo</th>\n",
       "      <td>54.033581</td>\n",
       "      <td>52.288934</td>\n",
       "      <td>61.168083</td>\n",
       "      <td>7.821003</td>\n",
       "      <td>0.581331</td>\n",
       "    </tr>\n",
       "    <tr>\n",
       "      <th>Propriva</th>\n",
       "      <td>52.320930</td>\n",
       "      <td>50.446266</td>\n",
       "      <td>43.852013</td>\n",
       "      <td>6.622085</td>\n",
       "      <td>0.544332</td>\n",
       "    </tr>\n",
       "    <tr>\n",
       "      <th>Ramicane</th>\n",
       "      <td>40.216745</td>\n",
       "      <td>40.673236</td>\n",
       "      <td>23.486704</td>\n",
       "      <td>4.846308</td>\n",
       "      <td>0.320955</td>\n",
       "    </tr>\n",
       "    <tr>\n",
       "      <th>Stelasyn</th>\n",
       "      <td>54.233149</td>\n",
       "      <td>52.431737</td>\n",
       "      <td>59.450562</td>\n",
       "      <td>7.710419</td>\n",
       "      <td>0.573111</td>\n",
       "    </tr>\n",
       "    <tr>\n",
       "      <th>Zoniferol</th>\n",
       "      <td>53.236507</td>\n",
       "      <td>51.818479</td>\n",
       "      <td>48.533355</td>\n",
       "      <td>6.966589</td>\n",
       "      <td>0.516398</td>\n",
       "    </tr>\n",
       "  </tbody>\n",
       "</table>\n",
       "</div>"
      ],
      "text/plain": [
       "             Tumor Volume (mm3)                                          \n",
       "                           mean     median        var       std       sem\n",
       "Drug Regimen                                                             \n",
       "Capomulin             40.675741  41.557809  24.947764  4.994774  0.329346\n",
       "Ceftamin              52.591172  51.776157  39.290177  6.268188  0.469821\n",
       "Infubinol             52.884795  51.820584  43.128684  6.567243  0.492236\n",
       "Ketapril              55.235638  53.698743  68.553577  8.279709  0.603860\n",
       "Naftisol              54.331565  52.509285  66.173479  8.134708  0.596466\n",
       "Placebo               54.033581  52.288934  61.168083  7.821003  0.581331\n",
       "Propriva              52.320930  50.446266  43.852013  6.622085  0.544332\n",
       "Ramicane              40.216745  40.673236  23.486704  4.846308  0.320955\n",
       "Stelasyn              54.233149  52.431737  59.450562  7.710419  0.573111\n",
       "Zoniferol             53.236507  51.818479  48.533355  6.966589  0.516398"
      ]
     },
     "execution_count": 7,
     "metadata": {},
     "output_type": "execute_result"
    }
   ],
   "source": [
    "# Generate a summary statistics table of mean, median, variance, standard deviation, and SEM of the tumor volume for each regimen\n",
    "\n",
    "# Using the aggregation method, produce the same summary statistics in a single line\n",
    "sum_stat_df = clean_data.groupby('Drug Regimen').agg({'Tumor Volume (mm3)': ['mean', 'median','var','std','sem']})\n",
    "sum_stat_df"
   ]
  },
  {
   "cell_type": "markdown",
   "metadata": {},
   "source": [
    "The above table is a summary statistics table generated to compare the company's regimen, Capomulin, with other treatment regimens. \n",
    "\n",
    "-----\n",
    "The mean column shows the average/mean value of tumor size across all mice, within each drug regimen. The observation here is that average size of tumor development is relatively low (about 41 cubic millimeters) compared to other regimen. In fact, there is only 1 Regimen whose average tumor development is lower than the company's drug regimen, Capomulin. And that is Ramicane. \n",
    "\n",
    "-----\n",
    "The median column tells a similar story as the mean. The middle point of each data point closely matches the mean. the median observation is similar to that of the mean.\n",
    "\n",
    "-----\n",
    "The variance, which tells how spread apart the Tumor volume data points are from each other, is shown here depicting that Capomulin, the company's drug, and Ramicane's data points are spread apart FAR less than the other drug regimen. The other drugs have very large dissimilarities.\n",
    "\n",
    "-----\n",
    "The Standard deviation for this dataset tells a story similar to the variance. Although St.D is a measure of spread, it is not to be confused with variance. Standard deviation is a measure of how spread out, or how far apart the datapoints tend to be compared to the mean, NOT the each other. In this data, Capomulin and Ramicane, once again, have a smaller standard deviation compared to the rest. This is to say that the datapoints center closer to the mean than the other drug regimen.\n",
    "\n",
    "-----\n",
    "Standard error of the mean, in this instance, will tell a similar story to the standard deviation. Capomulin and Ramicane, once again, have a smaller standard error compared to the rest. Meaning that they are closer to the data's mean. The standard error's measurement's findings should not change regardless of what sample of the data is use. How close the datapoints are to the mean of the population remains unchanged, unless the standard deviation, if a sample was taken out of the population"
   ]
  },
  {
   "cell_type": "markdown",
   "metadata": {},
   "source": [
    "## Bar and Pie Charts"
   ]
  },
  {
   "cell_type": "code",
   "execution_count": 8,
   "metadata": {},
   "outputs": [
    {
     "data": {
      "text/plain": [
       "Text(0, 0.5, 'Number of Measurements')"
      ]
     },
     "execution_count": 8,
     "metadata": {},
     "output_type": "execute_result"
    },
    {
     "data": {
      "image/png": "[encoded data removed]",
      "text/plain": [
       "<Figure size 432x288 with 1 Axes>"
      ]
     },
     "metadata": {
      "needs_background": "light"
     },
     "output_type": "display_data"
    }
   ],
   "source": [
    "# Generate a bar plot showing the total number of measurements taken on each drug regimen using pandas.\n",
    "\n",
    "bar_regimen = clean_data['Drug Regimen'].value_counts() # count of each regimen - assumption is that each line is a measurement\n",
    "bar_regimen.plot.bar() # bar plot \n",
    "plt.title(\"Total number of measurements for each regimen\") # give the plot a title\n",
    "plt.xlabel(\"Drug Regimen\")\n",
    "plt.ylabel(\"Number of Measurements\")"
   ]
  },
  {
   "cell_type": "code",
   "execution_count": 9,
   "metadata": {},
   "outputs": [
    {
     "data": {
      "text/plain": [
       "Text(0, 0.5, 'Number of Measurements')"
      ]
     },
     "execution_count": 9,
     "metadata": {},
     "output_type": "execute_result"
    },
    {
     "data": {
      "image/png": "[encoded data removed]",
      "text/plain": [
       "<Figure size 576x216 with 1 Axes>"
      ]
     },
     "metadata": {
      "needs_background": "light"
     },
     "output_type": "display_data"
    }
   ],
   "source": [
    "# Generate a bar plot showing the total number of measurements taken on each drug regimen using pyplot.\n",
    "\n",
    "bar_regimen_df = pd.DataFrame(bar_regimen).reset_index() # Create a new dataframe to hold the regimen count\n",
    "# num_regimen_df\n",
    "x_axis = bar_regimen_df[\"index\"] # identify x-axis\n",
    "tick_locations = [value for value in x_axis] # for cleaner plot - create a ticker location for x-axis values\n",
    "\n",
    "# plot the dataframe\n",
    "plt.figure(figsize=(8, 3))\n",
    "plt.bar(x_axis,bar_regimen_df['Drug Regimen'] )\n",
    "plt.xticks(tick_locations,rotation=\"vertical\")\n",
    "plt.title(\"Total number of measurements for each regimen\")\n",
    "plt.xlabel(\"Drug Regimen\")\n",
    "plt.ylabel(\"Number of Measurements\")"
   ]
  },
  {
   "cell_type": "markdown",
   "metadata": {},
   "source": [
    "Both bar charts above are identical. \n",
    "\n",
    "----\n",
    "Observations are that the number of measures taken throughout the study for Capomulin and Ramicane are higher than the other drugs in the study. At first, it may seem that'd be the reason for a better mean and a more centered standard deviation. But the standard errors for the 2 drugs is still far better than the rest in the study. Meaning that any sample taken out of the data will still yeild similar scatter around the mean.\n",
    "\n",
    "-----\n",
    "\n",
    "Code and figure below:\n",
    "Both pie plots below are identical. They show the distribution of mouse gender. \n",
    "\n",
    "\n",
    "Gender distribution:\n",
    "\n",
    "Male: 958 - 51%\n",
    "\n",
    "Female: 922 - 49%\n",
    "\n",
    "Because the distribution of male vs female are ALMOST identical, we can conclude that gender may not affect any analysis downstream. "
   ]
  },
  {
   "cell_type": "code",
   "execution_count": 10,
   "metadata": {},
   "outputs": [
    {
     "data": {
      "text/plain": [
       "Male      958\n",
       "Female    922\n",
       "Name: Sex, dtype: int64"
      ]
     },
     "execution_count": 10,
     "metadata": {},
     "output_type": "execute_result"
    },
    {
     "data": {
      "image/png": "[encoded data removed]",
      "text/plain": [
       "<Figure size 432x288 with 1 Axes>"
      ]
     },
     "metadata": {},
     "output_type": "display_data"
    }
   ],
   "source": [
    "# Generate a pie plot showing the distribution of female versus male mice using pandas\n",
    "\n",
    "pie_sex = clean_data[\"Sex\"].value_counts()\n",
    "pie_sex.plot.pie()\n",
    "plt.title(\"Male/Female Distribution of Mice in treatment\")\n",
    "pie_sex"
   ]
  },
  {
   "cell_type": "code",
   "execution_count": 11,
   "metadata": {},
   "outputs": [
    {
     "data": {
      "text/plain": [
       "Text(0.5, 1.0, 'Male/Female Distribution of Mice in treatment')"
      ]
     },
     "execution_count": 11,
     "metadata": {},
     "output_type": "execute_result"
    },
    {
     "data": {
      "image/png": "[encoded data removed]",
      "text/plain": [
       "<Figure size 432x288 with 1 Axes>"
      ]
     },
     "metadata": {},
     "output_type": "display_data"
    }
   ],
   "source": [
    "# Generate a pie plot showing the distribution of female versus male mice using pyplot\n",
    "# num_sex\n",
    "labels = 'Male', 'Female'\n",
    "plt.pie(pie_sex,labels=labels,shadow=True,radius=1)\n",
    "plt.title(\"Male/Female Distribution of Mice in treatment\")"
   ]
  },
  {
   "cell_type": "markdown",
   "metadata": {},
   "source": [
    "## Quartiles, Outliers and Boxplots"
   ]
  },
  {
   "cell_type": "code",
   "execution_count": 12,
   "metadata": {},
   "outputs": [],
   "source": [
    "# Calculate the final tumor volume of each mouse across four of the treatment regimens:  \n",
    "# Capomulin, Ramicane, Infubinol, and Ceftamin\n",
    "\n",
    "# filter out all other treatment regimens; keep: Capomulin, Ramicane, Infubinol, and Ceftamin\n",
    "four_regimen = clean_data[\n",
    "    (clean_data['Drug Regimen']=='Capomulin')|\n",
    "    (clean_data['Drug Regimen']=='Ramicane')|\n",
    "    (clean_data['Drug Regimen']=='Infubinol')|\n",
    "    (clean_data['Drug Regimen']=='Ceftamin')\n",
    "]\n",
    "\n",
    "# Start by getting the last (greatest) timepoint for each mouse\n",
    "# remove duplicates, keep last last value for \n",
    "last_value = four_regimen.drop_duplicates(['Mouse ID'], keep='last') # keeps the last value of each regimen's timepoint\n",
    "# last_value.head(35)"
   ]
  },
  {
   "cell_type": "code",
   "execution_count": 13,
   "metadata": {},
   "outputs": [
    {
     "name": "stdout",
     "output_type": "stream",
     "text": [
      "The lower quartile of occupancy is: 37.19\n",
      "The upper quartile of occupancy is: 59.93\n",
      "The interquartile range of occupancy is: 22.74\n",
      "\n",
      "List of the quartiles:\n",
      "0.25    37.187744\n",
      "0.50    45.000000\n",
      "0.75    59.930262\n",
      "Name: Tumor Volume (mm3), dtype: float64\n",
      "\n",
      "Any Tumor volume values below 3.08 could be potential outliers.\n",
      "ny Tumor volume values above 94.04 could be potential outliers.\n"
     ]
    }
   ],
   "source": [
    "# Put treatments into a list for for loop (and later for plot labels)\n",
    "\n",
    "# new df for quartile anlaysis\n",
    "treatments = last_value[['Drug Regimen','Tumor Volume (mm3)']]#,'Tumor Volume (mm3)']]\n",
    "# treatments['Drug Regimen'].value_counts()\n",
    "\n",
    "# Create empty list to fill with tumor vol data (for plotting)\n",
    "\n",
    "# Calculate the IQR and quantitatively determine if there are any potential outliers. \n",
    "quartiles = treatments['Tumor Volume (mm3)'].quantile([.25,.5,.75])\n",
    "lower_quartiles = round(quartiles[0.25],2)\n",
    "upper_quartiles = round(quartiles[0.75],2)\n",
    "IQR = round(upper_quartiles - lower_quartiles,2)\n",
    "\n",
    "print(f\"The lower quartile of occupancy is: {lower_quartiles}\")\n",
    "print(f\"The upper quartile of occupancy is: {upper_quartiles}\")\n",
    "print(f\"The interquartile range of occupancy is: {IQR}\")\n",
    "\n",
    "print()\n",
    "print(f\"List of the quartiles:\")\n",
    "print(quartiles)\n",
    "print()\n",
    "# calculate lower bound and upper bound - helps identify what the range of outliers could be\n",
    "lower_bound = round(lower_quartiles - (1.5*IQR),2)\n",
    "upper_bound = round(upper_quartiles + (1.5*IQR),2)\n",
    "\n",
    "print(f\"Any Tumor volume values below {lower_bound} could be potential outliers.\")\n",
    "print(f\"ny Tumor volume values above {upper_bound} could be potential outliers.\")"
   ]
  },
  {
   "cell_type": "markdown",
   "metadata": {},
   "source": [
    "----\n",
    "The above code shows the lower and upper quartiles of the Tumor Volume. Using the lower bound and upper bound technique, I can create a range of where potential outliers could be. But it would be best to plot some data on a box and whisker plot to truly see where there might be some outliers.\n",
    "\n",
    "-----"
   ]
  },
  {
   "cell_type": "code",
   "execution_count": 14,
   "metadata": {},
   "outputs": [
    {
     "data": {
      "image/png": "[encoded data removed]",
      "text/plain": [
       "<Figure size 432x288 with 4 Axes>"
      ]
     },
     "metadata": {
      "needs_background": "light"
     },
     "output_type": "display_data"
    }
   ],
   "source": [
    "# Generate a box plot of the final tumor volume of each mouse across four regimens of interest\n",
    "Ceftamin = treatments[(treatments['Drug Regimen'] =='Ceftamin')]\n",
    "Ramicane = treatments[(treatments['Drug Regimen'] =='Ramicane')]\n",
    "Capomulin = treatments[(treatments['Drug Regimen'] =='Capomulin')]\n",
    "Infubinol = treatments[(treatments['Drug Regimen'] =='Infubinol')]\n",
    "\n",
    "# box = sns.FacetGrid(treatments,col='Drug Regimen',sharex=False,xlim=75)\n",
    "# box.map(sns.boxplot,'Tumor Volume (mm3)')\n",
    "\n",
    "# sns.set(style=\"whitegrid\")\n",
    "# treatments_data = sns.load_dataset(\"treatments\")\n",
    "\n",
    "fig, axes = plt.subplots(2, 2,sharey=True,squeeze=False)\n",
    "\n",
    "ax = sns.boxplot(x=\"Drug Regimen\", y=\"Tumor Volume (mm3)\", data=Ceftamin,\n",
    "    ax=axes[0, 0],width=0.4)\n",
    "ax = sns.boxplot(x=\"Drug Regimen\", y=\"Tumor Volume (mm3)\", data=Ramicane,\n",
    "    ax=axes[0, 1],width=0.4)\n",
    "ax = sns.boxplot(x=\"Drug Regimen\", y=\"Tumor Volume (mm3)\", data=Capomulin,\n",
    "    ax=axes[1, 0],width=0.4)\n",
    "ax = sns.boxplot(x=\"Drug Regimen\", y=\"Tumor Volume (mm3)\", data=Infubinol, fliersize=10,\n",
    "    ax=axes[1, 1],width=0.4)"
   ]
  },
  {
   "cell_type": "markdown",
   "metadata": {},
   "source": [
    "The above code and figure shows a box and whisker plots for Tumor volume for EACH of the 4 selected drug regimen.\n",
    "\n",
    "We can visually see each plot; side by side, where the mean is clustered, the max and min values, the upper and lower quartiles, the middle-most value, and any outliers.\n",
    "\n",
    "Visually, we can see that within the 4 drug regimen that is believed to have promising treatment, Ramicane and Capomulin have the lowest average tumor size. \n",
    "\n",
    "Infubinol is the only treatment out of the four that shows an outlier. There seem to be a mouse (maybe more) whose response to the treament seems better than those on the same drug regimen. "
   ]
  },
  {
   "cell_type": "markdown",
   "metadata": {},
   "source": [
    "## Line and Scatter Plots"
   ]
  },
  {
   "cell_type": "code",
   "execution_count": 15,
   "metadata": {},
   "outputs": [
    {
     "data": {
      "text/plain": [
       "Text(0, 0.5, 'Tumor Volume (mm3)')"
      ]
     },
     "execution_count": 15,
     "metadata": {},
     "output_type": "execute_result"
    },
    {
     "data": {
      "image/png": "[encoded data removed]",
      "text/plain": [
       "<Figure size 432x288 with 1 Axes>"
      ]
     },
     "metadata": {
      "needs_background": "light"
     },
     "output_type": "display_data"
    }
   ],
   "source": [
    "# Generate a line plot of tumor volume vs. time point for a mouse treated with Capomulin\n",
    "\n",
    "# indentifying all mouse ID under the Capomulin treatment\n",
    "mice_under_Capomulin = four_regimen[four_regimen['Drug Regimen']=='Capomulin'] # filtering for Capomulin treatment\n",
    "mice_under_Capomulin['Mouse ID'].unique() # looking at all unique mouse IDs under the treatment. \n",
    "\n",
    "mouse_id = 'i738'# selecting a mouse ID\n",
    "\n",
    "# filtering the data to JUST Capomulin treatments and the selected mouse ID\n",
    "Capomulin_mouseID = four_regimen[(four_regimen['Mouse ID']==mouse_id) & (four_regimen['Drug Regimen']=='Capomulin')]\n",
    "\n",
    "# plot\n",
    "lineplot = Capomulin_mouseID.plot.line(x='Timepoint',y='Tumor Volume (mm3)')\n",
    "\n",
    "# labels for plot\n",
    "plt.title(\"Timepoint vs Tumor Volume growth for Mouse ID: i738\")\n",
    "plt.xlabel(\"Timepoint\")\n",
    "plt.ylabel(\"Tumor Volume (mm3)\")"
   ]
  },
  {
   "cell_type": "markdown",
   "metadata": {},
   "source": [
    "The above code and figure shows a trend line of tumor size going down as a response of time. This shows progress of tumor shrinking for a mouse on the Capomulin treament. The tumor appears to shrink rapidly between day 5 and 15, shrinking even further to almost nothing by day 25, but it appears to be growing right after. \n",
    "\n",
    "-----\n",
    "The below code and figure shows a scatter plot of the average tumor size based on the weight grouping of mice in the Capomulin treatment.\n",
    "\n",
    "The plot shows a very positive linear correlation between mouse weight and the average size of tumor growth. "
   ]
  },
  {
   "cell_type": "code",
   "execution_count": 16,
   "metadata": {},
   "outputs": [
    {
     "data": {
      "text/plain": [
       "Text(0, 0.5, 'Tumor Volume (mm3)')"
      ]
     },
     "execution_count": 16,
     "metadata": {},
     "output_type": "execute_result"
    },
    {
     "data": {
      "image/png": "[encoded data removed]",
      "text/plain": [
       "<Figure size 432x288 with 1 Axes>"
      ]
     },
     "metadata": {
      "needs_background": "light"
     },
     "output_type": "display_data"
    }
   ],
   "source": [
    "# Generate a scatter plot of average tumor volume vs. mouse weight for the Capomulin regimen\n",
    "\n",
    "tum_weight = four_regimen[['Weight (g)','Drug Regimen','Tumor Volume (mm3)']] # selecting columns needed for scatter plot analysis\n",
    "tum_weight = tum_weight[tum_weight['Drug Regimen']=='Capomulin'] # filtering for Capomulin treatments only\n",
    "# tum_weight\n",
    "\n",
    "# grouping the data by weight and passing the average tumor size for each of the weight groups\n",
    "avgTum_weight = tum_weight.groupby(['Weight (g)'])\n",
    "\n",
    "# calculate the mean of Tumor volume for each weight group - resetting index and passing the new table into a dataframe for scatter plot\n",
    "avgTum_weight = avgTum_weight['Tumor Volume (mm3)'].mean().to_frame(name = 'Average Tumor volume').reset_index() \n",
    "\n",
    "# scatter plot\n",
    "plt.scatter(avgTum_weight['Weight (g)'],avgTum_weight['Average Tumor volume'])\n",
    "\n",
    "# labels for plot\n",
    "plt.title(\"Average Tumor volume by Mouse weight\")\n",
    "plt.xlabel(\"Weight (g)\")\n",
    "plt.ylabel(\"Tumor Volume (mm3)\")"
   ]
  },
  {
   "cell_type": "markdown",
   "metadata": {},
   "source": [
    "## Correlation and Regression"
   ]
  },
  {
   "cell_type": "code",
   "execution_count": 17,
   "metadata": {},
   "outputs": [
    {
     "name": "stdout",
     "output_type": "stream",
     "text": [
      "The correlation between both factors is 0.95\n",
      "\n",
      "0.95 shows a VERY strong positive correlation between the weight of a mouse vs the avg tumor volume\n"
     ]
    }
   ],
   "source": [
    "# Calculate the correlation coefficient and linear regression model\n",
    "Weight = avgTum_weight.iloc[:,0] # all values in Weight\n",
    "Avg_tum_vol = avgTum_weight.iloc[:,1] # all values in Average Tumor weight\n",
    "\n",
    "correlation = st.pearsonr(Weight,Avg_tum_vol) # calculating the correlation coefficient\n",
    "\n",
    "print(f\"The correlation between both factors is {round(correlation[0],2)}\") # 0.95\n",
    "print()\n",
    "print(\"0.95 shows a VERY strong positive correlation between the weight of a mouse vs the avg tumor volume\")"
   ]
  },
  {
   "cell_type": "code",
   "execution_count": 18,
   "metadata": {},
   "outputs": [
    {
     "name": "stdout",
     "output_type": "stream",
     "text": [
      "y = 0.89x + 22.76\n"
     ]
    },
    {
     "data": {
      "text/plain": [
       "Text(0, 0.5, 'Tumor Volume (mm3)')"
      ]
     },
     "execution_count": 18,
     "metadata": {},
     "output_type": "execute_result"
    },
    {
     "data": {
      "image/png": "[encoded data removed]",
      "text/plain": [
       "<Figure size 432x288 with 1 Axes>"
      ]
     },
     "metadata": {
      "needs_background": "light"
     },
     "output_type": "display_data"
    }
   ],
   "source": [
    "# for mouse weight and average tumor volume for the Capomulin regimen\n",
    "\n",
    "# calculate linear regression\n",
    "data_regress = linregress(Weight,Avg_tum_vol)\n",
    "# data_regress\n",
    "\n",
    "# add the linear equation line to the plot\n",
    "# unpack the regression \n",
    "(slope, intercept, rvalue, pvalue, stderr) = data_regress\n",
    "\n",
    "# using the regression formula (y = mx + b) pass the unpacked values into a variable\n",
    "reg_value = Weight*slope + intercept\n",
    "\n",
    "equation = \"y = \" + str(round(slope,2)) + \"x + \" + str(round(intercept,2))\n",
    "print(equation)\n",
    "plt.scatter(Weight,Avg_tum_vol) # redo the scatter plot\n",
    "plt.plot(Weight,reg_value,\"r--\") # pass in the calculated regression line as the y-axis\n",
    "plt.title(\"Average Tumor volume by Mouse weight\")\n",
    "plt.xlabel(\"Weight (g)\")\n",
    "plt.ylabel(\"Tumor Volume (mm3)\")"
   ]
  },
  {
   "cell_type": "markdown",
   "metadata": {},
   "source": [
    "In an attempt to prove the positive linear relationship between the weight of a mouse and the size of tumor, the above code and figure shows a regression line added to the scatter plot. The observation here is that the regression line tells us that there is a positive relationship. The slope of the line, 0.89, alters the independent variable, values from the weight column, helps estimate what the potential tumor volume will be. "
   ]
  },
  {
   "cell_type": "code",
   "execution_count": null,
   "metadata": {},
   "outputs": [],
   "source": []
  }
 ],
 "metadata": {
  "anaconda-cloud": {},
  "kernelspec": {
   "display_name": "Python 3",
   "language": "python",
   "name": "python3"
  },
  "language_info": {
   "codemirror_mode": {
    "name": "ipython",
    "version": 3
   },
   "file_extension": ".py",
   "mimetype": "text/x-python",
   "name": "python",
   "nbconvert_exporter": "python",
   "pygments_lexer": "ipython3",
   "version": "3.7.3"
  }
 },
 "nbformat": 4,
 "nbformat_minor": 4
}
